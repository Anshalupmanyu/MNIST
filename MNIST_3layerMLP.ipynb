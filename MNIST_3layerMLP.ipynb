{
  "nbformat": 4,
  "nbformat_minor": 0,
  "metadata": {
    "colab": {
      "provenance": [],
      "gpuType": "T4",
      "authorship_tag": "ABX9TyMRyUpdhgKV/SofPDUwGB6W",
      "include_colab_link": true
    },
    "kernelspec": {
      "name": "python3",
      "display_name": "Python 3"
    },
    "language_info": {
      "name": "python"
    },
    "accelerator": "GPU"
  },
  "cells": [
    {
      "cell_type": "markdown",
      "metadata": {
        "id": "view-in-github",
        "colab_type": "text"
      },
      "source": [
        "<a href=\"https://colab.research.google.com/github/Anshalupmanyu/MNIST/blob/main/MNIST_3layerMLP.ipynb\" target=\"_parent\"><img src=\"https://colab.research.google.com/assets/colab-badge.svg\" alt=\"Open In Colab\"/></a>"
      ]
    },
    {
      "cell_type": "code",
      "execution_count": 10,
      "metadata": {
        "colab": {
          "base_uri": "https://localhost:8080/"
        },
        "id": "s5XLZmn_eGEe",
        "outputId": "ec2a1083-9287-46d1-c069-8d9da703bc8a"
      },
      "outputs": [
        {
          "output_type": "stream",
          "name": "stdout",
          "text": [
            "Epoch [1/10], Loss: 0.0862\n",
            "Epoch [2/10], Loss: 0.0486\n",
            "Epoch [3/10], Loss: 0.0257\n",
            "Epoch [4/10], Loss: 0.0181\n",
            "Epoch [5/10], Loss: 0.0152\n",
            "Epoch [6/10], Loss: 0.0135\n",
            "Epoch [7/10], Loss: 0.0122\n",
            "Epoch [8/10], Loss: 0.0112\n",
            "Epoch [9/10], Loss: 0.0103\n",
            "Epoch [10/10], Loss: 0.0096\n",
            "Accuracy on test set: 94.48%\n"
          ]
        }
      ],
      "source": [
        "import torch\n",
        "import torch.nn as nn\n",
        "import torch.optim as optim\n",
        "from torchvision import datasets, transforms\n",
        "from torch.utils.data import DataLoader\n",
        "\n",
        "# Define the MLP model\n",
        "class MLP(nn.Module):\n",
        "    def __init__(self, input_size, hidden_size1, hidden_size2, output_size):\n",
        "        super(MLP, self).__init__()\n",
        "        self.fc1 = nn.Linear(input_size, hidden_size1)\n",
        "        self.fc2 = nn.Linear(hidden_size1, hidden_size2)\n",
        "        self.fc3 = nn.Linear(hidden_size2, output_size)\n",
        "        self.sigmoid = nn.Sigmoid()\n",
        "\n",
        "    def forward(self, x):\n",
        "        x = self.sigmoid(self.fc1(x))\n",
        "        x = self.sigmoid(self.fc2(x))\n",
        "        x = self.sigmoid(self.fc3(x))\n",
        "        return x\n",
        "\n",
        "# Load MNIST dataset\n",
        "transform = transforms.Compose([\n",
        "    transforms.ToTensor(),\n",
        "    transforms.Normalize((0.5,), (0.5,))\n",
        "])\n",
        "\n",
        "train_dataset = datasets.MNIST(root='./data', train=True, download=True, transform=transform)\n",
        "test_dataset = datasets.MNIST(root='./data', train=False, download=True, transform=transform)\n",
        "\n",
        "train_loader = DataLoader(train_dataset, batch_size=64, shuffle=True)\n",
        "test_loader = DataLoader(test_dataset, batch_size=64, shuffle=False)\n",
        "\n",
        "# Initialize the model, loss function, and optimizer\n",
        "input_size = 28*28\n",
        "hidden_size1 = 128\n",
        "hidden_size2 = 64\n",
        "output_size = 10\n",
        "mlp = MLP(input_size, hidden_size1, hidden_size2, output_size)\n",
        "criterion = nn.MSELoss()\n",
        "optimizer = optim.SGD(mlp.parameters(), lr=2)\n",
        "\n",
        "# Training the MLP\n",
        "num_epochs = 10\n",
        "for epoch in range(num_epochs):\n",
        "    running_loss = 0.0\n",
        "    for data in train_loader:\n",
        "        inputs, labels = data\n",
        "        inputs = inputs.view(inputs.size(0), -1)\n",
        "        optimizer.zero_grad()\n",
        "        outputs = mlp(inputs)\n",
        "        labels_onehot = torch.zeros(outputs.size()).scatter_(1, labels.view(-1, 1), 1)\n",
        "        loss = criterion(outputs, labels_onehot)\n",
        "        loss.backward()\n",
        "        optimizer.step()\n",
        "        running_loss += loss.item() * inputs.size(0)\n",
        "    epoch_loss = running_loss / len(train_loader.dataset)\n",
        "    print(f'Epoch [{epoch+1}/{num_epochs}], Loss: {epoch_loss:.4f}')\n",
        "\n",
        "# Testing the MLP\n",
        "correct = 0\n",
        "total = 0\n",
        "with torch.no_grad():\n",
        "    for data in test_loader:\n",
        "        inputs, labels = data\n",
        "        inputs = inputs.view(inputs.size(0), -1)\n",
        "        outputs = mlp(inputs)\n",
        "        _, predicted = torch.max(outputs.data, 1)\n",
        "        total += labels.size(0)\n",
        "        correct += (predicted == labels).sum().item()\n",
        "\n",
        "accuracy = correct / total\n",
        "print(f'Accuracy on test set: {100 * accuracy:.2f}%')\n"
      ]
    },
    {
      "cell_type": "code",
      "source": [],
      "metadata": {
        "id": "kBy2nQNi5IJE"
      },
      "execution_count": null,
      "outputs": []
    }
  ]
}